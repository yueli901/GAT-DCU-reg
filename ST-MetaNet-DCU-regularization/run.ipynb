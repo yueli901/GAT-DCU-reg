{
 "cells": [
  {
   "cell_type": "code",
   "execution_count": null,
   "id": "1aa0a7ef-693a-4067-85aa-f300d1b763ea",
   "metadata": {},
   "outputs": [],
   "source": [
    "import subprocess\n",
    "import yaml\n",
    "\n",
    "time_interval_list = [1, 4, 12]\n",
    "epochs_list = [1, 4, 12]\n",
    "lambda_list = [0, 1e-4, 1e-3, 1e-2, 0.1, 1, 10, 1e2, 1e3, 1e4, 1e5, 1e6, 1e7]\n",
    "\n",
    "yaml_file_path = 'model_setting/st-metanet.yaml'\n",
    "\n",
    "for i in range(len(lambda_list)):\n",
    "    for j in range(len(time_interval_list)):\n",
    "        with open(yaml_file_path, 'r') as file:\n",
    "            yaml_content = yaml.safe_load(file)\n",
    "        \n",
    "        yaml_content['dataset']['time_interval'] = time_interval_list[j]\n",
    "        yaml_content['training']['lambda_reg'] = lambda_list[i]\n",
    "        \n",
    "        with open(yaml_file_path, 'w') as file:\n",
    "            yaml.safe_dump(yaml_content, file)\n",
    "        \n",
    "        command = f\"python train.py --file {yaml_file_path} --epochs {epochs_list[j]}\"\n",
    "        process = subprocess.run(command, shell=True, check=True, stdout=subprocess.PIPE, stderr=subprocess.PIPE)\n",
    "        output = process.stdout\n",
    "        error = process.stderr\n",
    "        \n",
    "        print(f'Running completed for time_interval={time_interval_list[j]}, epoch={epochs_list[j]}, lambda={lambda_list[i]}')\n",
    "        print(\"Output:\", output.decode())\n",
    "        print(\"Error:\", error.decode())\n"
   ]
  }
 ],
 "metadata": {
  "kernelspec": {
   "display_name": "Python 3 (ipykernel)",
   "language": "python",
   "name": "python3"
  },
  "language_info": {
   "codemirror_mode": {
    "name": "ipython",
    "version": 3
   },
   "file_extension": ".py",
   "mimetype": "text/x-python",
   "name": "python",
   "nbconvert_exporter": "python",
   "pygments_lexer": "ipython3",
   "version": "3.10.13"
  }
 },
 "nbformat": 4,
 "nbformat_minor": 5
}
